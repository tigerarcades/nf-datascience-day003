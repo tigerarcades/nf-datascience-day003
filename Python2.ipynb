{
 "cells": [
  {
   "cell_type": "markdown",
   "metadata": {},
   "source": [
    "# Introduction to Python\n",
    "\n",
    "Throughout this entire notebook you should be experimenting with the code in the non-text cells. A great way to begin to get a feel for Python is by playing with it. So, have some fun by changing the values in the cells and then running them again with Shift-Enter. \n",
    "\n",
    "At the end of each section there will be some questions to help further your understanding. Remember, in Python we always can manually test things by trying them out; however, you should try to think about the answers to these questions before you run some code. This way you can check and verify your understanding of the section's topic.\n",
    "\n",
    "## Logic\n",
    "\n",
    "Now that we have a thorough understanding of base numeric types and how to play with and store them in Python, let's keep building our tools so that we can use them to control the flow of our programs.\n",
    "\n",
    "The simplest way to control the flow of your Python program is with an `if` statement. From a high level, an `if` statement allows us to check whether or not a certain condition is true. If it is, certain operations will be performed. Otherwise, those operations will not be executed.\n",
    "\n",
    "For example, say we're asked to write a program that takes a bunch of numbers and gives back to us those that are even. We would need to write an `if` statement that identifies whether or not a number is even (we'll talk later about how to do this), and then give back only those that meet the even condition. This is a program that will be entirely within our ability to implement at the end of next week; for now, though, let's focus on the `if` statement.\n",
    "\n",
    "The general syntax of an `if` statement in Python is:\n",
    "```python\n",
    "if condition:\n",
    "    if_block_statement\n",
    "```\n",
    "\n",
    "Notice how the `if` statement, after the condition, ends in a colon `:`. This is the way that Python declares the start of an indentation block. The purposes of indentation blocks manifest themselves in many different ways. With our `if` statement, just know that they mark a section of code that is run under specific circumstances, when the codition is true. What does it mean, then, for a condition to be true? To understand this, let's look at conditionals.\n",
    "\n",
    "### Conditionals\n",
    "\n",
    "Let's tackle this one part at a time. What does it mean to be a condition? Really, all an `if` is checking is whether the conditional evaluates to `True` or `False`. In english, it checks if the condition is true or not. If the condition is true, then the body of the `if` statement is executed. If the condition is false, the `if` block is skipped. Intuitively, true and false are concepts that make perfect sense to us. But, we should take the time to clearly define them in a programming context.\n",
    "\n",
    "`True` and `False` are what we call booleans in logic, and what Python calls them (`bool` for short). They are a special variable type with many potential uses; mainly they are used as a way to put a label on the truth of a statement. There are two specifically reserved words for bools in Python, `True` and `False`. Note that these begin with capital letters."
   ]
  },
  {
   "cell_type": "code",
   "execution_count": 2,
   "metadata": {},
   "outputs": [
    {
     "data": {
      "text/plain": [
       "bool"
      ]
     },
     "execution_count": 2,
     "metadata": {},
     "output_type": "execute_result"
    }
   ],
   "source": [
    "type(True)"
   ]
  },
  {
   "cell_type": "code",
   "execution_count": 3,
   "metadata": {},
   "outputs": [
    {
     "data": {
      "text/plain": [
       "bool"
      ]
     },
     "execution_count": 3,
     "metadata": {},
     "output_type": "execute_result"
    }
   ],
   "source": [
    "type(False)"
   ]
  },
  {
   "cell_type": "markdown",
   "metadata": {},
   "source": [
    "In addition, a wide variety of statements can evaluate to booleans. The ones that we will focus on today are the equalities,  *equal to* and *not equal to*, and the inequalities, *less than*, *greater than*, *less than or equal to* and *greater than or equal to*. These comparisons are available in Python via `==`, `!=`, `<`, `>`, `<=` and `>=`, respectively. Consider the following (in)equality statements. Try changing them to other numerics and see what happens."
   ]
  },
  {
   "cell_type": "code",
   "execution_count": 4,
   "metadata": {},
   "outputs": [
    {
     "data": {
      "text/plain": [
       "False"
      ]
     },
     "execution_count": 4,
     "metadata": {},
     "output_type": "execute_result"
    }
   ],
   "source": [
    "1 == 2"
   ]
  },
  {
   "cell_type": "code",
   "execution_count": 5,
   "metadata": {},
   "outputs": [
    {
     "data": {
      "text/plain": [
       "True"
      ]
     },
     "execution_count": 5,
     "metadata": {},
     "output_type": "execute_result"
    }
   ],
   "source": [
    "1 != 2"
   ]
  },
  {
   "cell_type": "code",
   "execution_count": 6,
   "metadata": {},
   "outputs": [
    {
     "data": {
      "text/plain": [
       "True"
      ]
     },
     "execution_count": 6,
     "metadata": {},
     "output_type": "execute_result"
    }
   ],
   "source": [
    "1 < 2"
   ]
  },
  {
   "cell_type": "code",
   "execution_count": 7,
   "metadata": {},
   "outputs": [
    {
     "data": {
      "text/plain": [
       "False"
      ]
     },
     "execution_count": 7,
     "metadata": {},
     "output_type": "execute_result"
    }
   ],
   "source": [
    "1 > 2"
   ]
  },
  {
   "cell_type": "code",
   "execution_count": 8,
   "metadata": {},
   "outputs": [
    {
     "data": {
      "text/plain": [
       "True"
      ]
     },
     "execution_count": 8,
     "metadata": {},
     "output_type": "execute_result"
    }
   ],
   "source": [
    "1 <= 2"
   ]
  },
  {
   "cell_type": "code",
   "execution_count": 9,
   "metadata": {},
   "outputs": [
    {
     "data": {
      "text/plain": [
       "False"
      ]
     },
     "execution_count": 9,
     "metadata": {},
     "output_type": "execute_result"
    }
   ],
   "source": [
    "1 >= 2"
   ]
  },
  {
   "cell_type": "markdown",
   "metadata": {},
   "source": [
    "### Using the If\n",
    "\n",
    "Now that we understand conditionals, let's talk about how we can use them with variables to make our programs dynamic. Consider the following code block.\n",
    "\n",
    "```python\n",
    "if x > 5:\n",
    "    x += 10\n",
    "print x\n",
    "```\n",
    "\n",
    "**Note**: The print function simply pipes the value passed to it to the console.\n",
    "\n",
    "In the above code, we don't need to know what the value of `x` is, but we can say that if it's greater than 5, it will come out of the code block 10 greater than before the `if` statement.\n",
    "\n",
    "From what we know so far, this functionality isn't super useful. So, let's quickly go over a way that we can make our Python more flexible. Until now, we've had to hard code any variable or value that we want to use in our program. Python has a built in way to accept input from the user of a program. Let's examine this now. Consider the following code:"
   ]
  },
  {
   "cell_type": "code",
   "execution_count": 12,
   "metadata": {},
   "outputs": [
    {
     "name": "stdout",
     "output_type": "stream",
     "text": [
      "Please enter a number: 3\n",
      "3\n"
     ]
    }
   ],
   "source": [
    "x = input('Please enter a number: ')\n",
    "print(x)"
   ]
  },
  {
   "cell_type": "markdown",
   "metadata": {},
   "source": [
    "Try executing the above cell (with Shift-Enter). `raw_input()` will halt anything else from happening, so nothing will happen until you type something and press enter. This is the function that we will be using to get input from a user of our programs. We will use it frequently for the next couple of weeks as you write solutions to the assignment questions. Now that we have a way to get arbitrary input from the user of our programs, we can begin to see the full power of the `if`. Let's combine the last two code blocks from above:"
   ]
  },
  {
   "cell_type": "code",
   "execution_count": 14,
   "metadata": {},
   "outputs": [
    {
     "name": "stdout",
     "output_type": "stream",
     "text": [
      "Please enter a number: 5\n",
      "5\n"
     ]
    }
   ],
   "source": [
    "x = int(input('Please enter a number: '))\n",
    "if x > 5:\n",
    "    x += 10\n",
    "print(x)"
   ]
  },
  {
   "cell_type": "markdown",
   "metadata": {},
   "source": [
    "Try running the above cell, entering different values. Given what we know the `if` statement is supposed to do, are you getting values that you'd expect?\n",
    "\n",
    "**Note**: `raw_input()` actually interprets the input as strings, so we have to manually tell Python to treat the number we pass as an integer with `int()`. We'll talk about strings more next week.\n",
    "\n",
    "This may seem like a trivial example, and therefore, not very exciting. Let me assure you, though, that what you have just learned is amazingly powerful! So, congratulations!"
   ]
  },
  {
   "cell_type": "markdown",
   "metadata": {},
   "source": [
    "**If Questions**\n",
    "\n",
    "1. Write an `if` statement to check if a number is smaller than 100.\n",
    "2. Write some code that accepts a user inputted number. It checks to see if that number is positive, and if it is it adds 50 to the number. Then print the number."
   ]
  },
  {
   "cell_type": "code",
   "execution_count": 25,
   "metadata": {},
   "outputs": [
    {
     "name": "stdout",
     "output_type": "stream",
     "text": [
      "Please enter a number: 2\n",
      "2\n"
     ]
    }
   ],
   "source": [
    "x = int(input('Please enter a number: '))\n",
    "if x < 100:\n",
    "    print(x)"
   ]
  },
  {
   "cell_type": "code",
   "execution_count": 27,
   "metadata": {},
   "outputs": [
    {
     "name": "stdout",
     "output_type": "stream",
     "text": [
      "Please enter a number: 100\n",
      "150\n"
     ]
    }
   ],
   "source": [
    "x = int(input('Please enter a number: '))\n",
    "if x >= 0:\n",
    "    x += 50\n",
    "print(x)"
   ]
  },
  {
   "cell_type": "markdown",
   "metadata": {},
   "source": [
    "### Building on the If\n",
    "\n",
    "Ok, so, the `if` is cool. But, it seems like there are only so many things you can do with it. Let's summarize this with what's known as a *flow diagram*. (If you don't see an image below, make sure that you started this notebook from the folder for the day, not the preclass folder.)\n",
    "\n",
    "<div style=\"text-align: center\"><h3>If Flow</h3><img src=\"../misc/if_flow.png\" style=\"height: 350px\"></div>\n",
    "\n",
    "You can see that there are two branches created by the `if` statement, one when the condition is true, and the other when it is false. In the former case, the conditional code is executed, and in the latter, the conditional code is ignored. But what if we wanted to check more than one thing (i.e. have more than two branches in our flow diagram)?\n",
    "\n",
    "Python gives us two ways to do this. First, by offering other conditionals, `elif` and `else`, and second by allowing us to combine conditions with logicals `and`, `or` and `not`.\n",
    "\n",
    "#### Elif and Else\n",
    "\n",
    "In addition to the `if`, Python provides us with two other statements to build out those logical trees, the `elif` and the `else`. The `elif` is just like the `if` - it accepts a condition to check the truth of and has an indented code block that is executed when that condition evaluates to `True`. The `else` is similar, but it doesn't accept a condition. Instead, it mainly acts as a catch all for any other situation that you didn't cover with your `if`s and `elif`s. Note that there can only be a single `if` and up to a single `else`, but any number of `elif`s in an `if`-`elif`-`else` block. Let's take a closer look at this in the following code block:"
   ]
  },
  {
   "cell_type": "code",
   "execution_count": 28,
   "metadata": {
    "scrolled": true
   },
   "outputs": [
    {
     "name": "stdout",
     "output_type": "stream",
     "text": [
      "Please enter a number: 2\n",
      "You entered a positive number.\n"
     ]
    }
   ],
   "source": [
    "x = int(input('Please enter a number: '))\n",
    "if x < 0:\n",
    "    print('You entered a negative number.')\n",
    "elif x > 0:\n",
    "    print('You entered a positive number.')\n",
    "else:\n",
    "    print('You entered the number 0.')"
   ]
  },
  {
   "cell_type": "markdown",
   "metadata": {},
   "source": [
    "Try running the above cell and enter different numbers. Before you submit the number, think about what you think will be printed based on what you see in the conditionals. Can you explain what this `if`-`elif`-`else` block is doing in english?"
   ]
  },
  {
   "cell_type": "markdown",
   "metadata": {},
   "source": [
    "Let's specifically talk about how the `if`-`elif`-`else` statements work. The programmers of Python designed these statements so that they would execute highly efficiently. To do this, Python goes through your `if`-`elif`-`else` statements one at a time. When it encounters a condition that evaluates to `True`, it will execute the corresponding conditional code block **and** then skip to the line directly following the last conditional block. Let's examine this in the following code:"
   ]
  },
  {
   "cell_type": "code",
   "execution_count": 16,
   "metadata": {},
   "outputs": [
    {
     "name": "stdout",
     "output_type": "stream",
     "text": [
      "Please enter a number: 2\n",
      "You entered a positive number.\n"
     ]
    }
   ],
   "source": [
    "x = int(input('Please enter a number: '))\n",
    "if x > 5:\n",
    "    print('You entered a number bigger than 5.')\n",
    "elif x > 0:\n",
    "    print('You entered a positive number.')\n",
    "elif x < 0:\n",
    "    print('You entered a negative number.')\n",
    "else:\n",
    "    print('You entered the number 0.')"
   ]
  },
  {
   "cell_type": "markdown",
   "metadata": {},
   "source": [
    "Try running the above code and enter the number 5, and then again with 6. Before you do so, what do you think will be printed? Try it out. You may get slightly unexpected results. But, they will soon make perfect sense.\n",
    "\n",
    "Knowing what is going on in the above code will allow you full control over the flow of your programs. In the first case, when you entered 5, you got something unsurprising. The only condition that evaluates to true when `x` is 5 is the second one.\n",
    "\n",
    "However, the second example prints only \"You entered a number bigger than 5.\" And, even though 6 is greater than 0, 'You entered a positive number.' was not printed. This shows that only one of the conditional blocks in an `if`-`elif`-`else` statement will ever be evaluated. Sounds efficient, doesn't it?\n",
    "\n",
    "**Note**: The `else` part of the statement is actually optional. If it is not included, then we'd notice that at most one of the conditional blocks in an `if`-`else` statement will be evaluated.\n",
    "\n",
    "**Elif Else Questions**\n",
    "1. Write an `if`-`elif`-`else` statement that does the following: \n",
    "\n",
    " * Prints \"This is a good number.\" if `x` is a single digit number\n",
    " * Prints \"This is a better number.\" if `x` is a double digit number \n",
    " * Prints \"Horrible number.\" otherwise."
   ]
  },
  {
   "cell_type": "code",
   "execution_count": 29,
   "metadata": {},
   "outputs": [
    {
     "name": "stdout",
     "output_type": "stream",
     "text": [
      "Please enter a number: 9\n",
      "This is a good number.\n"
     ]
    }
   ],
   "source": [
    "x = int(input('Please enter a number: '))\n",
    "if x < 10:\n",
    "    print('This is a good number.')\n",
    "elif x < 100:\n",
    "    print('This is a better number.')\n",
    "else:\n",
    "    print('Horrible number.')"
   ]
  },
  {
   "cell_type": "markdown",
   "metadata": {},
   "source": [
    "#### And, Or and Not\n",
    "\n",
    "There are plenty of times when we want to execute some specific code when more than one condition is true. Check out the following code snippet where we want to check if a number is between 5 and 10. Change the value of `x` in the next cell so that it is printed."
   ]
  },
  {
   "cell_type": "code",
   "execution_count": 18,
   "metadata": {},
   "outputs": [],
   "source": [
    "x = 5\n",
    "if x > 5:\n",
    "    if x < 10:\n",
    "        print(x)"
   ]
  },
  {
   "cell_type": "markdown",
   "metadata": {},
   "source": [
    "We can see that what this **nested** `if` statement is checking is if `x` is greater than 5, and if so, then the conditional block is entered. Next, it checks if `x` is less than 10, and if this is true `x` is printed. We can intuitively guess that there is a better way to check for this condition... And there is!!!\n",
    "\n",
    "Python gives us full access to what are known as boolean operations. The ones that we will use most often are `and`, `or`, and `not`. Both `and` and `or` take two conditions as inputs, while `not` takes only a single condition. All of these operations return a single boolean. `and` requires both conditions to be `True` to return `True`, otherwise it will return `False`. `or` requires only one of the conditions to be `True` to return `True`; the only time it returns `False` is when both inputs are `False`. The `not` switches the truth of the input condition. These operations are derived from formal logic, and you can find a full discussion of their intricacies [here](https://en.wikipedia.org/wiki/Truth_table).\n",
    "\n",
    "What this means is that we now have a natural way to combine conditions. The previously nested `if` statement can now be written as a simple `if x > 5 and x < 10`. We can also chain other interesting conditionals together. Change the value of `x` in the next cell so that it isn't printed and in the cell after so that it is."
   ]
  },
  {
   "cell_type": "code",
   "execution_count": 30,
   "metadata": {},
   "outputs": [
    {
     "name": "stdout",
     "output_type": "stream",
     "text": [
      "4\n"
     ]
    }
   ],
   "source": [
    "x = 4\n",
    "if x > 10 or x < 5:\n",
    "    print(x)"
   ]
  },
  {
   "cell_type": "code",
   "execution_count": 31,
   "metadata": {},
   "outputs": [],
   "source": [
    "x = 6\n",
    "if not (x <= 10 and x >= 5):\n",
    "    print(x)"
   ]
  },
  {
   "cell_type": "markdown",
   "metadata": {},
   "source": [
    "Notice how the first `if` in the above code snippet uses an `or`, printing `x` if it is greater than 10 or less than 5. Inherently, this statement is also saying that it will print `x` if `x` is not between 5 and 10, which is expressed in the second `if` statement. This illustrates an important point - there is always more than one way to accomplish the same thing in programming."
   ]
  },
  {
   "cell_type": "markdown",
   "metadata": {},
   "source": [
    "**And Or Not Questions**\n",
    "\n",
    "1. Write the english condition in Python in a single statement: if x is between 20 and 30.\n",
    "2. Write the following english condition in two ways using Python: if x is greater than 10.\n",
    "3. Write the following english condition in Python: if x isn't a positive number."
   ]
  },
  {
   "cell_type": "code",
   "execution_count": 33,
   "metadata": {},
   "outputs": [
    {
     "name": "stdout",
     "output_type": "stream",
     "text": [
      "25\n"
     ]
    }
   ],
   "source": [
    "x = 25\n",
    "if 20 <= x <= 30:\n",
    "    print(x)"
   ]
  },
  {
   "cell_type": "code",
   "execution_count": 34,
   "metadata": {},
   "outputs": [
    {
     "name": "stdout",
     "output_type": "stream",
     "text": [
      "11\n",
      "11\n"
     ]
    }
   ],
   "source": [
    "x = 11\n",
    "if x >= 11:\n",
    "    print(x)\n",
    "if x > 10:\n",
    "    print(x)"
   ]
  },
  {
   "cell_type": "code",
   "execution_count": 35,
   "metadata": {},
   "outputs": [
    {
     "name": "stdout",
     "output_type": "stream",
     "text": [
      "-1\n"
     ]
    }
   ],
   "source": [
    "x = -1\n",
    "if not x >= 0:\n",
    "    print(x)"
   ]
  }
 ],
 "metadata": {
  "kernelspec": {
   "display_name": "Python [conda env:nf] *",
   "language": "python",
   "name": "conda-env-nf-py"
  },
  "language_info": {
   "codemirror_mode": {
    "name": "ipython",
    "version": 3
   },
   "file_extension": ".py",
   "mimetype": "text/x-python",
   "name": "python",
   "nbconvert_exporter": "python",
   "pygments_lexer": "ipython3",
   "version": "3.6.6"
  }
 },
 "nbformat": 4,
 "nbformat_minor": 1
}
