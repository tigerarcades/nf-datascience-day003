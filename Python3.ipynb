{
 "cells": [
  {
   "cell_type": "markdown",
   "metadata": {},
   "source": [
    "# Introduction to Python\n",
    "\n",
    "Throughout this entire notebook you should be experimenting with the code in the non-text cells. A great way to begin to get a feel for Python is by playing with it. So, have some fun by changing the values in the cells and then running them again with Shift-Enter. \n",
    "\n",
    "At the end of each section there will be some questions to help further your understanding. Remember, in Python we always can manually test things by trying them out; however, you should try to think about the answers to these questions before you run some code. This way, you can check and verify your understanding of the section's topic.\n",
    "\n",
    "## Looping\n",
    "\n",
    "We are now prepared to learn about another extremely powerful programming construct. Everything that we learned in the last section on logic is part of an idea called **control flow**. Flow refers to the order in which statements in your program are executed. Controlling this flow can be done in many ways; so far we have learned about `if`-`elif`-`else` statements, but there are a number of others.\n",
    "\n",
    "One thing that we find in programming is that we want to do something over and over (and over), possibly under the same circumstances each time, but frequently under slightly different circumstances each time. With the tools that we currently possess, we have to write out a line of Python for each time that we want to do that something. Let's go through a more concrete example.\n",
    "\n",
    "Consider that you are asked to write a program to calculate the sum of the numbers between 1 and 8 (without the use of any built-in Python functions). We could write an extremely simple line of code to do this for us."
   ]
  },
  {
   "cell_type": "code",
   "execution_count": 1,
   "metadata": {},
   "outputs": [
    {
     "name": "stdout",
     "output_type": "stream",
     "text": [
      "36\n"
     ]
    }
   ],
   "source": [
    "sum_1_8 = 1 + 2 + 3 + 4 + 5 + 6 + 7 + 8\n",
    "print(sum_1_8)"
   ]
  },
  {
   "cell_type": "markdown",
   "metadata": {},
   "source": [
    "While this works, there are a couple of things I want to draw your attention to. These will become themes about how to analyze how well code is written. What happens if we want to add some other numbers together, perhaps the numbers 1 through 9, and use the code above to help? It's not that hard - just add 9 to `sum_1_8`, you say. After all, we're already most of the way there. Ok, fine. What if you want to add 2 through 9 together? Now we could take `sum_1_8`, add 9 and subtract off 1. That works, but it involves some thinking to make this new idea work with the existing code that we have written.\n",
    "\n",
    "Instead of having all of these **hard coded** values in our definition of `sum_1_8`, we could instead **abstract** away part of our problem. What is this abstraction? In programming, we talk about abstraction when we want to refer to an idea whose implementation is more general and/or hidden from us. In the above example, we see exactly what we're doing to sum the numbers 1 through 8. This isn't abstracted at all. So, how are we to solve this problem more abstractly?\n",
    "\n",
    "This is a question that you will frequently be faced with; how do you do something... in code? A good strategy to solve these problems is to approach the problem from a high level (i.e. in plain English, no code).\n",
    "\n",
    "Let's do that with our coding problem above. We were asked to add together the numbers 1 through 8. This can be thought of as given a starting number, 1, and then adding on the next number, 2, to get 3. Then, we can repeat this process, taking the next number, 3, and adding it on, giving us 6. We could then continue this process until we reach the final number, 8, and then stop. This is inherently what we were doing in that single line of Python when we said `1 + 2 + 3 + 4 + 5 + 6 + 7 + 8`, but that implementation is what we call **brittle** - it only works for that specific case and breaks whenever we want to do something even slightly different.\n",
    "\n",
    "Luckily, we're learning Python, and Python has ways to do exactly what we described in a very succinct way.\n",
    "\n",
    "\n",
    "### While Loops\n",
    "\n",
    "Notice that in our high level description of the problem solution, we kept saying \"and then\". This repetitious language brings us to our next control flow tool, loops. There are two types of loops in Python, but today we're going to focus on `while` loops. `while` loops are an amazing tool which simply allow us to have a predefined chunk of code which we tell Python we want to run over and over under certain conditions.\n",
    "\n",
    "So, what are these conditions? They are in fact the conditions we learned about in the logic section (i.e. any expression that is evaluated to a boolean). How does this work with `while`? Let's take a look at the structure of a `while` statement.\n",
    "\n",
    "```python\n",
    "while condition:\n",
    "    while_block_statement\n",
    "```\n",
    "\n",
    "As with  `if`, a `while` statement has a condition; unlike the `if`, the while block will execute over and over again as long as the condition is `True` (the `if` block executes **only once**). This is where we get the name `while` loop from - **while** the condition evaluates to `True`, we will execute the code inside the `while` block, looping over it. The `while` condition is checked each time before the `while` statement block is executed. Take a look at this idea depicted in a flow diagram.\n",
    "\n",
    "<div style=\"text-align: center\"><h3>While Flow</h3><img src=\"../misc/while_flow.png\" style=\"height: 350px\"></div>\n",
    "\n",
    "Let's look at how we can harness this new structure to solve our previous problem. "
   ]
  },
  {
   "cell_type": "code",
   "execution_count": 2,
   "metadata": {},
   "outputs": [
    {
     "name": "stdout",
     "output_type": "stream",
     "text": [
      "36\n"
     ]
    }
   ],
   "source": [
    "total, x = 0, 1\n",
    "while x <= 8:\n",
    "    total += x\n",
    "    x += 1\n",
    "print(total)"
   ]
  },
  {
   "cell_type": "markdown",
   "metadata": {},
   "source": [
    "Let's break down the above code to see what is going on. On the first line, we declare a couple of variables (here you see the Python syntax used to do multiple assignments in a single line), `total` and `x`. `total` is the variable that we are going to aggregate our sum into, and `x` is the first number that we start our adding at. \n",
    "\n",
    "The next line declares the start of our newly learned `while` block. It's condition is x <= 8, and naturally reads as: \"while x is less than or equal to 8\", do stuff in the block. The block then says we are to add the current value of `x` to total, and then add one to `x`.\n",
    "\n",
    "This is called an aggregate pattern, where you declare a variable up front that is designed to have values aggregated into it (e.g. `total`). Then, at the end of the loop, the value in total is the total aggregated value that you wanted to calculate. This is a simple yet powerful framework which we will see used many times in this course.\n",
    "\n",
    "We know that this `while` statement loops over the `while` block many times, but the values of `total` and `x` will change each time through the loop. So, let's take a look at what the values of both of these variables are throughout the execution of the loop.\n",
    "\n",
    "| After loop #  |   total   |   x   |   x <= 8   |\n",
    "| ------------- |:---------:|:-----:|:----------:|\n",
    "| 1             |  1        |   2   |    True    |\n",
    "| 2             |  3        |   3   |    True    |\n",
    "| 3             |  6        |   4   |    True    |\n",
    "| 4             |  10       |   5   |    True    |\n",
    "| 5             |  15       |   6   |    True    |\n",
    "| 6             |  21       |   7   |    True    |\n",
    "| 7             |  28       |   8   |    True    |\n",
    "| 8             |  36       |   9   |    False   |\n",
    "\n",
    "We see that as we continue through the loop, `total` is growing by the value of `x` from the previous execution of the loop, and this continues until the condition `x <= 8` evaluates to `False`. This happens when `x` is 9, at which point we exit the loop, and `total` has accrued the sum of the numbers 1 through 8. Magic!!\n",
    "\n",
    "**While Questions**\n",
    "\n",
    "Change the loop above so that the value in total is:\n",
    "1. The sum of the numbers 1 through 9,\n",
    "2. The sum of the numbers 2 through 9,\n",
    "3. The sum of every other number starting with 3 ending with 13 (**hint**: you'll need to increment `x` differently),\n",
    "\n",
    "after the loop is executed."
   ]
  },
  {
   "cell_type": "code",
   "execution_count": 1,
   "metadata": {},
   "outputs": [
    {
     "name": "stdout",
     "output_type": "stream",
     "text": [
      "45\n"
     ]
    }
   ],
   "source": [
    "total, x = 0, 1\n",
    "while x <= 9:\n",
    "    total += x\n",
    "    x += 1\n",
    "print(total)"
   ]
  },
  {
   "cell_type": "code",
   "execution_count": 3,
   "metadata": {},
   "outputs": [
    {
     "name": "stdout",
     "output_type": "stream",
     "text": [
      "44\n"
     ]
    }
   ],
   "source": [
    "total, x = 0, 2\n",
    "while x <= 9:\n",
    "    total += x\n",
    "    x += 1\n",
    "print(total)"
   ]
  },
  {
   "cell_type": "code",
   "execution_count": 4,
   "metadata": {},
   "outputs": [
    {
     "name": "stdout",
     "output_type": "stream",
     "text": [
      "48\n"
     ]
    }
   ],
   "source": [
    "total, x = 0, 3\n",
    "while x <= 13:\n",
    "    total += x\n",
    "    x += 2\n",
    "print(total)"
   ]
  },
  {
   "cell_type": "markdown",
   "metadata": {},
   "source": [
    "### Infinite Loops\n",
    "\n",
    "While the power of this looping construct is undeniable, there is one extraordinarily important thing that should be on your mind when you're writing `while` loops.\n",
    "\n",
    "Notice that our condition in the `while` loop example made sense because we were changing the value of `x` each time through the loop (with the line `x += 1`). What would happen, though, if we didn't do this incrementing (other than not calculating the correct value for `total`)?\n",
    "\n",
    "\n",
    "```python\n",
    "total, x = 0, 1\n",
    "while x <= 8:\n",
    "    total += x\n",
    "print(total)\n",
    "```\n",
    "\n",
    "Let's take a look at what the loop table would look like in this situation.\n",
    "\n",
    "| After loop #  |   total   |   x   |   x <= 8   |\n",
    "| ------------- |:---------:|:-----:|:----------:|\n",
    "| 1             |  1        |   1   |    True    |\n",
    "| 2             |  2        |   1   |    True    |\n",
    "| 3             |  3        |   1   |    True    |\n",
    "| 4             |  4        |   1   |    True    |\n",
    "| Etc.          |  Etc.     |  Etc. | **Always** True |\n",
    "\n",
    "Aside from the obvious problem that we aren't finding the sum of the values 1 through 8, we run into another, very egregious issue. Will the condition `x <= 8` ever evaluate to `False`? No. So, will the loop ever finish executing?? It won't!!\n",
    "\n",
    "We call this idea getting stuck in an **infinite loop**. They are almost *always* bad, and they usually manifest themselves as your program running for way longer than you would expect it to run, at which point you realize that something weird is happening. The common cause of these infinite loops is almost always having a condition that always evaluates to `True`.\n",
    "\n",
    "**Infinte Loop Question**\n",
    "\n",
    "The following cell has code containing an infinte loop in it. Change it so that when run, it will stop. If you try something and nothing is printed, then an infinite loop is probably still there. To stop the notebook from calculating on forever, navigate to the top bar, click on the *Kernel* tab, and click on *Interrupt*. This forcibly stops Python from executing."
   ]
  },
  {
   "cell_type": "code",
   "execution_count": 6,
   "metadata": {},
   "outputs": [
    {
     "name": "stdout",
     "output_type": "stream",
     "text": [
      "45\n"
     ]
    }
   ],
   "source": [
    "total, x = 0, 1\n",
    "while x < 10:\n",
    "    total += x\n",
    "    x += 1\n",
    "print(total)"
   ]
  },
  {
   "cell_type": "markdown",
   "metadata": {},
   "source": [
    "### More Control Flow\n",
    "\n",
    "#### Continue\n",
    "\n",
    "So, what if we want even more control over how the body of our loop is executed? Let's motivate this idea with a problem. Say we want to add all the numbers from 1 to 8... but not 5. Again, we could solve this with our current solution, and then subtract off 5. But, again, that takes a lot of manipulation. Instead, we can use the main structure of our current loop and add in a new condition with an `if` and use a new tool to interrupt our program's flow.\n",
    "\n",
    "Enter `continue`. What `continue` does is simply tell Python that it should skip the rest of the body of the `while` block, and jump (`continue`) to the next iteration of the loop. Let's take a look at `continue` in action."
   ]
  },
  {
   "cell_type": "code",
   "execution_count": 8,
   "metadata": {},
   "outputs": [
    {
     "name": "stdout",
     "output_type": "stream",
     "text": [
      "1 2\n",
      "3 3\n",
      "6 4\n",
      "10 5\n",
      "16 7\n",
      "23 8\n",
      "31 9\n",
      "31\n"
     ]
    }
   ],
   "source": [
    "total, x = 0, 1\n",
    "while x <= 8:\n",
    "    if x == 5:\n",
    "        x += 1\n",
    "        continue\n",
    "    total += x\n",
    "    x += 1\n",
    "    print(total, x)\n",
    "print(total)"
   ]
  },
  {
   "cell_type": "markdown",
   "metadata": {},
   "source": [
    "In this updated program we can see that at each iteration of the loop, we will check to see if the current value that we're about to add on to `total` is 5. If it isn't, we go on with our aggregation of `total`. If `x` is 5, we add one to `x` (do you see why we need to do this?), and skip adding `x` to total by executing a `continue`, jumping immediately to the next iteration of the loop. Let's see how this would look in the loop table.\n",
    "\n",
    "| After loop #  |   total   |   x   |   x <= 8   |    x == 5   |\n",
    "| ------------- |:---------:|:-----:|:----------:|:-----------:|\n",
    "| 1             |  1        |   2   |    True    |    False    |\n",
    "| 2             |  3        |   3   |    True    |    False    |\n",
    "| 3             |  6        |   4   |    True    |    False    |\n",
    "| 4             |  10       |   5   |    True    |    False    |\n",
    "| 5             |  10       |   6   |    True    |    True     |\n",
    "| 6             |  16       |   7   |    True    |    False    |\n",
    "| 7             |  23       |   8   |    True    |    False    |\n",
    "| 8             |  31       |   9   |    False   |    False    |\n",
    "\n",
    "During the fourth iteration of the loop, when `x` is 5, we see that `total` does not get 5 added to it.  Therefore, the final answer is 31, as we'd expect.\n",
    "\n",
    "**Continue Questions**\n",
    "\n",
    "1. Change the above code so that total has the sum of the numbers 10 through 30, without 15 or 25. Make sure you do this without subtracting those numbers off at the end. Things to ask yourself to help answer this question:\n",
    "    \n",
    "    1. Where, in the loop, does it decide if it should skip a number to be added? \n",
    "    2. How can you change the condition that so 15 **and** 25 are skipped? \n",
    "    3. Can you do `2` things in a single `if` statement?\n",
    "    \n",
    "2. Why do we need to have `x += 1` before the `continue`? What would happen if we took it out? "
   ]
  },
  {
   "cell_type": "code",
   "execution_count": 10,
   "metadata": {},
   "outputs": [
    {
     "name": "stdout",
     "output_type": "stream",
     "text": [
      "10 11\n",
      "21 12\n",
      "33 13\n",
      "46 14\n",
      "60 15\n",
      "76 17\n",
      "93 18\n",
      "111 19\n",
      "130 20\n",
      "150 21\n",
      "171 22\n",
      "193 23\n",
      "216 24\n",
      "240 25\n",
      "266 27\n",
      "293 28\n",
      "321 29\n",
      "350 30\n",
      "380 31\n",
      "380\n"
     ]
    }
   ],
   "source": [
    "total, x = 0, 10\n",
    "while x <= 30:\n",
    "    if x == 15 or x == 25:\n",
    "        # x needs to be mutated,\n",
    "        # otherwise we would get\n",
    "        # stuck in an infinite loop\n",
    "        x += 1\n",
    "        continue\n",
    "    total += x\n",
    "    x += 1\n",
    "    print(total, x)\n",
    "print(total)"
   ]
  },
  {
   "cell_type": "markdown",
   "metadata": {},
   "source": [
    "#### Break\n",
    "\n",
    "In addition to the continue, we have another, more aggressive, method to control the flow of our programs - `break`. Where `continue` allowed us to skip the rest of the loop's code block and jump directly to the next iteration of the loop, `break` allows us to manually leave the loop entirely.\n",
    "\n",
    "Let's look at an example. Consider trying to write a program that adds the numbers 1 to 8, but only up to 25. If the sum exceeds 25, the total is set to 25 and the message, \"The sum exceeded the max value of 25.\" is printed. We could certainly complete this task with the tools that we already possess, but `break` is better suited to meet the needs of this situation. Let's take a look at what this implementation would look like."
   ]
  },
  {
   "cell_type": "code",
   "execution_count": 11,
   "metadata": {},
   "outputs": [
    {
     "name": "stdout",
     "output_type": "stream",
     "text": [
      "The sum exceeded the max value of 25.\n",
      "25\n"
     ]
    }
   ],
   "source": [
    "total, x = 0, 1\n",
    "while x <= 8:\n",
    "    if total > 25:\n",
    "        total = 25\n",
    "        print('The sum exceeded the max value of 25.')\n",
    "        break\n",
    "    total += x\n",
    "    x += 1\n",
    "print(total)"
   ]
  },
  {
   "cell_type": "markdown",
   "metadata": {},
   "source": [
    "At this point, I'm confident that you are tired of looking at tables of values, but let's do this one last time for consistency under the above program specifications.\n",
    "\n",
    "| After loop #  |   total   |   x   |   x <= 8   | total > 25  |\n",
    "| ------------- |:---------:|:-----:|:----------:|:-----------:|\n",
    "| 1             |  1        |   2   |    True    |    False    |\n",
    "| 2             |  3        |   3   |    True    |    False    |\n",
    "| 3             |  6        |   4   |    True    |    False    |\n",
    "| 4             |  10       |   5   |    True    |    False    |\n",
    "| 5             |  15       |   6   |    True    |    False    |\n",
    "| 6             |  21       |   7   |    True    |    False    |\n",
    "| 7             |  28       |   8   |    True    |    True     |\n",
    "\n",
    "At this point, `total` is set to 25 and the message \"The sum exceeded the max value of 25.\" is printed. The loop is exited and then 25 (the value of `total` now) is printed to the screen.\n",
    "\n",
    "**Break Questions**\n",
    "\n",
    "1. Take the code above and change it so that the value of `x` that makes total greater than 25 is printed as well.\n",
    "2. Write a loop that adds the numbers 1 through 50. At some point the total value will be greater than 100. Have the loop print the number that makes the total greater than 100 and print the message \"The sum exceeded the max value of 100.\""
   ]
  },
  {
   "cell_type": "code",
   "execution_count": 17,
   "metadata": {
    "scrolled": true
   },
   "outputs": [
    {
     "name": "stdout",
     "output_type": "stream",
     "text": [
      "The sum exceeded the max value of 25 at x = 8\n",
      "25\n"
     ]
    }
   ],
   "source": [
    "total, x = 0, 1\n",
    "while x <= 8:\n",
    "    if total > 25:\n",
    "        total = 25\n",
    "        print('The sum exceeded the max value of 25 at x = {}'.format(x))\n",
    "        break\n",
    "    total += x\n",
    "    x += 1\n",
    "print(total)"
   ]
  },
  {
   "cell_type": "code",
   "execution_count": 20,
   "metadata": {},
   "outputs": [
    {
     "name": "stdout",
     "output_type": "stream",
     "text": [
      "The sum exceeded the max value of 100 at x = 15\n",
      "100\n"
     ]
    }
   ],
   "source": [
    "total, x = 0, 1\n",
    "while x <= 50:\n",
    "    if total > 100:\n",
    "        total = 100\n",
    "        print('The sum exceeded the max value of 100 at x = {}'.format(x))\n",
    "        break\n",
    "    total += x\n",
    "    x += 1\n",
    "print(total)"
   ]
  },
  {
   "cell_type": "markdown",
   "metadata": {},
   "source": [
    "#### Pass\n",
    "\n",
    "There's one more statement that allows us control over our programs - `pass`. All `pass` does is tell Python to do nothing. Because of this, it is rarely used for control flow, since the same result could be achieved by doing nothing. Instead, it is frequently offered as a place holder, since Python will complain about empty code blocks.\n",
    "\n",
    "While you're building up the skeleton of a program, `pass` can be useful as a method to get the framework written up without focusing on implementation. To illustrate...\n",
    "\n",
    "```python\n",
    "if x < 0:\n",
    "    pass\n",
    "elif x > 0:\n",
    "    pass\n",
    "else:\n",
    "    print('x is the value of 0.')\n",
    "```\n",
    "\n",
    "In the above example, we have set it up so that if `x` is 0, then our program tells us so. Otherwise, we know that we're going to do something specific when `x` is positive and something different when `x` is negative.  We have used pass to suggest that we either haven't figured those things out yet, or simply haven't implemented them."
   ]
  }
 ],
 "metadata": {
  "kernelspec": {
   "display_name": "Python [conda env:nf] *",
   "language": "python",
   "name": "conda-env-nf-py"
  },
  "language_info": {
   "codemirror_mode": {
    "name": "ipython",
    "version": 3
   },
   "file_extension": ".py",
   "mimetype": "text/x-python",
   "name": "python",
   "nbconvert_exporter": "python",
   "pygments_lexer": "ipython3",
   "version": "3.6.6"
  }
 },
 "nbformat": 4,
 "nbformat_minor": 1
}
